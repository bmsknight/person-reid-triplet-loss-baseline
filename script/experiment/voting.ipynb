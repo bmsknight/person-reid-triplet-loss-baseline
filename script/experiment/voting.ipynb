{
 "cells": [
  {
   "cell_type": "code",
   "execution_count": 1,
   "metadata": {},
   "outputs": [
    {
     "name": "stderr",
     "output_type": "stream",
     "text": [
      "/home/bmsknight/anaconda3/envs/pytorch/lib/python2.7/site-packages/scikit_learn-0.20.0-py2.7-linux-x86_64.egg/sklearn/utils/fixes.py:313: FutureWarning: numpy not_equal will not check object identity in the future. The comparison did not return the same result as suggested by the identity (`is`)) and will change.\n",
      "  _nan_object_mask = _nan_object_array != _nan_object_array\n"
     ]
    },
    {
     "name": "stdout",
     "output_type": "stream",
     "text": [
      "Keys not found in source state_dict: \n",
      "\t base.layer2.0.bn1.num_batches_tracked\n",
      "\t base.layer4.1.bn3.num_batches_tracked\n",
      "\t base.layer4.0.bn1.num_batches_tracked\n",
      "\t base.layer3.5.bn1.num_batches_tracked\n",
      "\t base.layer3.2.bn2.num_batches_tracked\n",
      "\t base.layer1.0.bn1.num_batches_tracked\n",
      "\t base.layer1.1.bn2.num_batches_tracked\n",
      "\t base.bn1.num_batches_tracked\n",
      "\t base.layer3.1.bn3.num_batches_tracked\n",
      "\t base.layer2.0.bn3.num_batches_tracked\n",
      "\t base.layer2.0.downsample.1.num_batches_tracked\n",
      "\t base.layer4.0.bn2.num_batches_tracked\n",
      "\t base.layer2.2.bn3.num_batches_tracked\n",
      "\t base.layer3.4.bn2.num_batches_tracked\n",
      "\t base.layer3.4.bn3.num_batches_tracked\n",
      "\t base.layer1.0.bn3.num_batches_tracked\n",
      "\t base.layer1.1.bn1.num_batches_tracked\n",
      "\t base.layer4.0.bn3.num_batches_tracked\n",
      "\t base.layer1.1.bn3.num_batches_tracked\n",
      "\t base.layer3.0.bn3.num_batches_tracked\n",
      "\t base.layer2.3.bn1.num_batches_tracked\n",
      "\t base.layer3.2.bn3.num_batches_tracked\n",
      "\t base.layer3.0.bn2.num_batches_tracked\n",
      "\t base.layer4.2.bn3.num_batches_tracked\n",
      "\t base.layer2.2.bn1.num_batches_tracked\n",
      "\t base.layer3.5.bn2.num_batches_tracked\n",
      "\t base.layer3.0.downsample.1.num_batches_tracked\n",
      "\t base.layer3.0.bn1.num_batches_tracked\n",
      "\t base.layer3.1.bn2.num_batches_tracked\n",
      "\t base.layer2.3.bn2.num_batches_tracked\n",
      "\t base.layer3.5.bn3.num_batches_tracked\n",
      "\t base.layer3.3.bn3.num_batches_tracked\n",
      "\t base.layer1.0.bn2.num_batches_tracked\n",
      "\t base.layer1.2.bn3.num_batches_tracked\n",
      "\t base.layer2.0.bn2.num_batches_tracked\n",
      "\t base.layer4.2.bn2.num_batches_tracked\n",
      "\t base.layer4.1.bn2.num_batches_tracked\n",
      "\t base.layer2.1.bn2.num_batches_tracked\n",
      "\t base.layer3.2.bn1.num_batches_tracked\n",
      "\t base.layer1.2.bn1.num_batches_tracked\n",
      "\t base.layer1.2.bn2.num_batches_tracked\n",
      "\t base.layer2.2.bn2.num_batches_tracked\n",
      "\t base.layer3.1.bn1.num_batches_tracked\n",
      "\t base.layer4.1.bn1.num_batches_tracked\n",
      "\t base.layer3.4.bn1.num_batches_tracked\n",
      "\t base.layer1.0.downsample.1.num_batches_tracked\n",
      "\t base.layer2.1.bn3.num_batches_tracked\n",
      "\t base.layer3.3.bn2.num_batches_tracked\n",
      "\t base.layer3.3.bn1.num_batches_tracked\n",
      "\t base.layer2.3.bn3.num_batches_tracked\n",
      "\t base.layer4.2.bn1.num_batches_tracked\n",
      "\t base.layer4.0.downsample.1.num_batches_tracked\n",
      "\t base.layer2.1.bn1.num_batches_tracked\n"
     ]
    }
   ],
   "source": [
    "from reid_functions import *\n",
    "\n",
    "cfg = Config()\n",
    "TVT, TMO = set_devices((0,))\n",
    "model = Model(last_conv_stride=cfg.last_conv_stride)\n",
    "model_w = DataParallel(model)\n",
    "tri_loss = TripletLoss(margin=cfg.margin)\n",
    "\n",
    "optimizer = optim.Adam(model.parameters(),\n",
    "                     lr=cfg.base_lr,\n",
    "                     weight_decay=cfg.weight_decay)\n",
    "\n",
    "modules_optims = [model, optimizer]\n",
    "\n",
    "map_location = (lambda storage, loc: storage)\n",
    "sd = torch.load(cfg.model_weight_file, map_location=map_location)\n",
    "load_state_dict(model, sd)\n",
    "\n",
    "ext = ExtractFeature(model=model_w,TVT=TVT)\n",
    "root_directory = '/home/bmsknight/triplet/person-reid-triplet-loss-baseline/data/ourdata/Database/Dynamic_Database/'\n",
    "db_name_list, db_feature_list = extract_DB_features(ext,cfg,root_directory)\n",
    "\n",
    "querrypath = \"/home/bmsknight/triplet/person-reid-triplet-loss-baseline/data/ourdata/Database/query3/\"\n",
    "# for filename in sorted(os.listdir(querrypath)):\n",
    "#     filepath = querrypath+filename\n",
    "#     person = findPerson(filepath, ext, cfg, db_name_list, db_feature_list)\n",
    "    \n",
    "#     print(filename, person)\n",
    "\n",
    "querry_name_list, querry_feature_list = extract_querry_features(ext, cfg, querrypath = \"/home/bmsknight/triplet/person-reid-triplet-loss-baseline/data/ourdata/Database/query3/\")\n",
    "\n",
    "q_q_dist = compute_dist(querry_feature_list,querry_feature_list, type='cosine')\n",
    "g_g_dist = compute_dist(db_feature_list,db_feature_list, type='cosine') \n",
    "q_g_dist_cos = compute_dist(querry_feature_list,db_feature_list, type='cosine')\n",
    "q_g_dist_cos = np.ones_like(q_g_dist_cos) - q_g_dist_cos\n",
    "q_q_dist = np.ones_like(q_q_dist) - q_q_dist\n",
    "g_g_dist = np.ones_like(g_g_dist) - g_g_dist\n",
    "\n",
    "reranked_list = re_ranking(q_g_dist_cos, q_q_dist, g_g_dist)"
   ]
  },
  {
   "cell_type": "code",
   "execution_count": 2,
   "metadata": {},
   "outputs": [
    {
     "data": {
      "text/plain": [
       "(912, 3)"
      ]
     },
     "execution_count": 2,
     "metadata": {},
     "output_type": "execute_result"
    }
   ],
   "source": [
    "querry_name_list.shape"
   ]
  },
  {
   "cell_type": "code",
   "execution_count": 3,
   "metadata": {},
   "outputs": [
    {
     "data": {
      "text/plain": [
       "(912, 33)"
      ]
     },
     "execution_count": 3,
     "metadata": {},
     "output_type": "execute_result"
    }
   ],
   "source": [
    "reranked_list.shape"
   ]
  },
  {
   "cell_type": "code",
   "execution_count": 4,
   "metadata": {},
   "outputs": [
    {
     "data": {
      "text/plain": [
       "(33,)"
      ]
     },
     "execution_count": 4,
     "metadata": {},
     "output_type": "execute_result"
    }
   ],
   "source": [
    "db_name_list.shape"
   ]
  },
  {
   "cell_type": "code",
   "execution_count": 5,
   "metadata": {},
   "outputs": [],
   "source": [
    "frames = list(set(querry_name_list[:,2].tolist()))"
   ]
  },
  {
   "cell_type": "code",
   "execution_count": 12,
   "metadata": {},
   "outputs": [],
   "source": [
    "framelist = reranked_list[querry_name_list[:,2]== frames[0]]\n",
    "frame_name_list = querry_name_list[querry_name_list[:,2]== frames[0]]"
   ]
  },
  {
   "cell_type": "code",
   "execution_count": 15,
   "metadata": {},
   "outputs": [],
   "source": [
    "min_index = np.unravel_index(np.argmin(framelist),framelist.shape)\n",
    "query_id = frame_name_list[min_index[0],0]\n",
    "person_name = db_name_list[min_index[1]]"
   ]
  },
  {
   "cell_type": "code",
   "execution_count": 17,
   "metadata": {},
   "outputs": [
    {
     "name": "stdout",
     "output_type": "stream",
     "text": [
      "1140\n",
      "(1, 22)\n",
      "person1\n",
      "harishanth\n"
     ]
    }
   ],
   "source": [
    "print(frames[0])\n",
    "print(min_index)\n",
    "print(query_id)\n",
    "print(person_name)"
   ]
  },
  {
   "cell_type": "code",
   "execution_count": 18,
   "metadata": {},
   "outputs": [],
   "source": [
    "framelist[min_index[0],:]=1\n",
    "framelist[:,db_name_list==person_name]=1"
   ]
  },
  {
   "cell_type": "code",
   "execution_count": 19,
   "metadata": {},
   "outputs": [
    {
     "data": {
      "text/plain": [
       "array([[ 0.97683585,  0.86555898,  0.87245017,  0.89732391,  0.9395963 ,\n",
       "         1.        ,  0.6897158 ,  0.72203082,  0.73053902,  0.71603489,\n",
       "         0.71394539,  0.88115281,  0.84711319,  0.87596178,  0.8052454 ,\n",
       "         0.9675023 ,  0.85715288,  0.89485908,  0.87213999,  0.98290092,\n",
       "         0.87340689,  1.        ,  1.        ,  1.        ,  1.        ,\n",
       "         1.        ,  0.78232086,  0.8599425 ,  0.84640837,  0.86922765,\n",
       "         0.81332308,  0.83608347,  0.83244044],\n",
       "       [ 1.        ,  1.        ,  1.        ,  1.        ,  1.        ,\n",
       "         1.        ,  1.        ,  1.        ,  1.        ,  1.        ,\n",
       "         1.        ,  1.        ,  1.        ,  1.        ,  1.        ,\n",
       "         1.        ,  1.        ,  1.        ,  1.        ,  1.        ,\n",
       "         1.        ,  1.        ,  1.        ,  1.        ,  1.        ,\n",
       "         1.        ,  1.        ,  1.        ,  1.        ,  1.        ,\n",
       "         1.        ,  1.        ,  1.        ],\n",
       "       [ 0.87855506,  0.82989872,  0.802212  ,  0.82324219,  0.87967741,\n",
       "         0.84296697,  0.80175078,  0.7417984 ,  0.76041132,  0.74927264,\n",
       "         0.77929908,  0.75545204,  0.76587266,  0.77708161,  0.71623421,\n",
       "         0.79569346,  0.75673544,  0.78086853,  0.77493626,  0.79586422,\n",
       "         0.78046477,  1.        ,  1.        ,  1.        ,  1.        ,\n",
       "         1.        ,  0.86921984,  0.95024073,  0.96217692,  0.97717732,\n",
       "         0.89288056,  0.93040663,  0.92616713],\n",
       "       [ 0.99271524,  0.91469145,  0.89633048,  0.94070941,  0.9742223 ,\n",
       "         0.99694562,  0.72442234,  0.74374032,  0.74068606,  0.7322827 ,\n",
       "         0.73234177,  0.90314221,  0.89064264,  0.92157108,  0.84952623,\n",
       "         0.94514585,  0.88646656,  0.90573317,  0.91078395,  1.        ,\n",
       "         0.90124571,  1.        ,  1.        ,  1.        ,  1.        ,\n",
       "         1.        ,  0.78604823,  0.84184748,  0.82395852,  0.85526079,\n",
       "         0.82853091,  0.81931716,  0.83067036],\n",
       "       [ 0.73860848,  0.73501873,  0.73403293,  0.73639607,  0.72671026,\n",
       "         0.74804634,  0.79700965,  0.73376441,  0.75902784,  0.73656756,\n",
       "         0.74590153,  0.76080412,  0.75872076,  0.75818914,  0.73753172,\n",
       "         0.80626559,  0.77341443,  0.78809685,  0.77015489,  0.74972564,\n",
       "         0.76973659,  1.        ,  1.        ,  1.        ,  1.        ,\n",
       "         1.        ,  0.78696537,  0.84704828,  0.86286026,  0.84159881,\n",
       "         0.78480351,  0.85247695,  0.83693385]], dtype=float32)"
      ]
     },
     "execution_count": 19,
     "metadata": {},
     "output_type": "execute_result"
    }
   ],
   "source": [
    "framelist"
   ]
  },
  {
   "cell_type": "code",
   "execution_count": 20,
   "metadata": {},
   "outputs": [],
   "source": [
    "min_index = np.unravel_index(np.argmin(framelist),framelist.shape)\n",
    "query_id = frame_name_list[min_index[0],0]\n",
    "person_name = db_name_list[min_index[1]]"
   ]
  },
  {
   "cell_type": "code",
   "execution_count": 21,
   "metadata": {},
   "outputs": [
    {
     "name": "stdout",
     "output_type": "stream",
     "text": [
      "1140\n",
      "(0, 6)\n",
      "person0\n",
      "thivakaran\n"
     ]
    }
   ],
   "source": [
    "print(frames[0])\n",
    "print(min_index)\n",
    "print(query_id)\n",
    "print(person_name)"
   ]
  },
  {
   "cell_type": "code",
   "execution_count": 22,
   "metadata": {},
   "outputs": [],
   "source": [
    "framelist[min_index[0],:]=1\n",
    "framelist[:,db_name_list==person_name]=1"
   ]
  },
  {
   "cell_type": "code",
   "execution_count": 23,
   "metadata": {},
   "outputs": [],
   "source": [
    "min_index = np.unravel_index(np.argmin(framelist),framelist.shape)\n",
    "query_id = frame_name_list[min_index[0],0]\n",
    "person_name = db_name_list[min_index[1]]"
   ]
  },
  {
   "cell_type": "code",
   "execution_count": 24,
   "metadata": {},
   "outputs": [
    {
     "name": "stdout",
     "output_type": "stream",
     "text": [
      "1140\n",
      "(2, 14)\n",
      "person2\n",
      "madhushan\n"
     ]
    }
   ],
   "source": [
    "print(frames[0])\n",
    "print(min_index)\n",
    "print(query_id)\n",
    "print(person_name)"
   ]
  },
  {
   "cell_type": "code",
   "execution_count": 25,
   "metadata": {},
   "outputs": [],
   "source": [
    "framelist[min_index[0],:]=1\n",
    "framelist[:,db_name_list==person_name]=1"
   ]
  },
  {
   "cell_type": "code",
   "execution_count": 26,
   "metadata": {},
   "outputs": [],
   "source": [
    "min_index = np.unravel_index(np.argmin(framelist),framelist.shape)\n",
    "query_id = frame_name_list[min_index[0],0]\n",
    "person_name = db_name_list[min_index[1]]"
   ]
  },
  {
   "cell_type": "code",
   "execution_count": 27,
   "metadata": {},
   "outputs": [
    {
     "name": "stdout",
     "output_type": "stream",
     "text": [
      "1140\n",
      "(4, 4)\n",
      "person5\n",
      "piriyanthan\n"
     ]
    }
   ],
   "source": [
    "print(frames[0])\n",
    "print(min_index)\n",
    "print(query_id)\n",
    "print(person_name)"
   ]
  },
  {
   "cell_type": "code",
   "execution_count": 28,
   "metadata": {},
   "outputs": [],
   "source": [
    "framelist[min_index[0],:]=1\n",
    "framelist[:,db_name_list==person_name]=1"
   ]
  },
  {
   "cell_type": "code",
   "execution_count": 29,
   "metadata": {},
   "outputs": [],
   "source": [
    "min_index = np.unravel_index(np.argmin(framelist),framelist.shape)\n",
    "query_id = frame_name_list[min_index[0],0]\n",
    "person_name = db_name_list[min_index[1]]"
   ]
  },
  {
   "cell_type": "code",
   "execution_count": 30,
   "metadata": {},
   "outputs": [
    {
     "name": "stdout",
     "output_type": "stream",
     "text": [
      "1140\n",
      "(3, 26)\n",
      "person3\n",
      "athavan\n"
     ]
    }
   ],
   "source": [
    "print(frames[0])\n",
    "print(min_index)\n",
    "print(query_id)\n",
    "print(person_name)"
   ]
  },
  {
   "cell_type": "code",
   "execution_count": 31,
   "metadata": {},
   "outputs": [],
   "source": [
    "framelist[min_index[0],:]=1\n",
    "framelist[:,db_name_list==person_name]=1"
   ]
  },
  {
   "cell_type": "code",
   "execution_count": 33,
   "metadata": {},
   "outputs": [
    {
     "data": {
      "text/plain": [
       "array([[ 1.,  1.,  1.,  1.,  1.,  1.,  1.,  1.,  1.,  1.,  1.,  1.,  1.,\n",
       "         1.,  1.,  1.,  1.,  1.,  1.,  1.,  1.,  1.,  1.,  1.,  1.,  1.,\n",
       "         1.,  1.,  1.,  1.,  1.,  1.,  1.],\n",
       "       [ 1.,  1.,  1.,  1.,  1.,  1.,  1.,  1.,  1.,  1.,  1.,  1.,  1.,\n",
       "         1.,  1.,  1.,  1.,  1.,  1.,  1.,  1.,  1.,  1.,  1.,  1.,  1.,\n",
       "         1.,  1.,  1.,  1.,  1.,  1.,  1.],\n",
       "       [ 1.,  1.,  1.,  1.,  1.,  1.,  1.,  1.,  1.,  1.,  1.,  1.,  1.,\n",
       "         1.,  1.,  1.,  1.,  1.,  1.,  1.,  1.,  1.,  1.,  1.,  1.,  1.,\n",
       "         1.,  1.,  1.,  1.,  1.,  1.,  1.],\n",
       "       [ 1.,  1.,  1.,  1.,  1.,  1.,  1.,  1.,  1.,  1.,  1.,  1.,  1.,\n",
       "         1.,  1.,  1.,  1.,  1.,  1.,  1.,  1.,  1.,  1.,  1.,  1.,  1.,\n",
       "         1.,  1.,  1.,  1.,  1.,  1.,  1.],\n",
       "       [ 1.,  1.,  1.,  1.,  1.,  1.,  1.,  1.,  1.,  1.,  1.,  1.,  1.,\n",
       "         1.,  1.,  1.,  1.,  1.,  1.,  1.,  1.,  1.,  1.,  1.,  1.,  1.,\n",
       "         1.,  1.,  1.,  1.,  1.,  1.,  1.]], dtype=float32)"
      ]
     },
     "execution_count": 33,
     "metadata": {},
     "output_type": "execute_result"
    }
   ],
   "source": [
    "framelist"
   ]
  },
  {
   "cell_type": "code",
   "execution_count": 58,
   "metadata": {},
   "outputs": [],
   "source": [
    "voting_dictionary = {}\n",
    "voting_name_list = np.asarray(list(set(db_name_list)))\n",
    "no_of_candidates = voting_name_list.shape[0]\n",
    "for frame in frames:\n",
    "    frame_dist_list = reranked_list[querry_name_list[:,2]== frame]\n",
    "    frame_name_list = querry_name_list[querry_name_list[:,2]== frame]\n",
    "    no_of_persons = frame_name_list.shape[0]\n",
    "    for bb in range(no_of_persons):\n",
    "        min_index = np.unravel_index(np.argmin(frame_dist_list),frame_dist_list.shape)\n",
    "        query_id = frame_name_list[min_index[0],0]\n",
    "        person_name = db_name_list[min_index[1]]\n",
    "        #print(frame,query_id,person_name)\n",
    "        frame_dist_list[min_index[0],:]=1\n",
    "        frame_dist_list[:,db_name_list==person_name]=1\n",
    "        if (query_id not in voting_dictionary.keys()):\n",
    "            voting_dictionary[query_id] = np.zeros(no_of_candidates)\n",
    "        voting_dictionary[query_id] = voting_dictionary[query_id] + (voting_name_list==person_name)"
   ]
  },
  {
   "cell_type": "code",
   "execution_count": 59,
   "metadata": {},
   "outputs": [
    {
     "data": {
      "text/plain": [
       "{'person0': array([ 63.,   9.,   8.,   9.,  98.]),\n",
       " 'person1': array([ 73.,   5.,  22.,  63.,  17.]),\n",
       " 'person2': array([ 32.,   7.,  53.,  44.,  26.]),\n",
       " 'person3': array([ 12.,  18.,  59.,  23.,  20.]),\n",
       " 'person4': array([  0.,  44.,  25.,  20.,  11.]),\n",
       " 'person5': array([   1.,  105.,   14.,   22.,    9.])}"
      ]
     },
     "execution_count": 59,
     "metadata": {},
     "output_type": "execute_result"
    }
   ],
   "source": [
    "voting_dictionary"
   ]
  },
  {
   "cell_type": "code",
   "execution_count": 60,
   "metadata": {},
   "outputs": [
    {
     "data": {
      "text/plain": [
       "array(['harishanth', 'piriyanthan', 'athavan', 'madhushan', 'thivakaran'], \n",
       "      dtype='|S11')"
      ]
     },
     "execution_count": 60,
     "metadata": {},
     "output_type": "execute_result"
    }
   ],
   "source": [
    "voting_name_list"
   ]
  },
  {
   "cell_type": "code",
   "execution_count": 48,
   "metadata": {},
   "outputs": [
    {
     "data": {
      "text/plain": [
       "5"
      ]
     },
     "execution_count": 48,
     "metadata": {},
     "output_type": "execute_result"
    }
   ],
   "source": [
    "Voting_name_list.shape[0]"
   ]
  },
  {
   "cell_type": "code",
   "execution_count": null,
   "metadata": {},
   "outputs": [],
   "source": []
  }
 ],
 "metadata": {
  "kernelspec": {
   "display_name": "Python 2",
   "language": "python",
   "name": "python2"
  },
  "language_info": {
   "codemirror_mode": {
    "name": "ipython",
    "version": 2
   },
   "file_extension": ".py",
   "mimetype": "text/x-python",
   "name": "python",
   "nbconvert_exporter": "python",
   "pygments_lexer": "ipython2",
   "version": "2.7.15"
  }
 },
 "nbformat": 4,
 "nbformat_minor": 2
}
